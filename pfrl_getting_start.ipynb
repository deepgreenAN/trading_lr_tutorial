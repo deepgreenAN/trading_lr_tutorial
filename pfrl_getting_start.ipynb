{
 "cells": [
  {
   "cell_type": "code",
   "execution_count": 1,
   "metadata": {
    "ExecuteTime": {
     "end_time": "2020-12-06T20:02:30.021737Z",
     "start_time": "2020-12-06T20:02:30.008775Z"
    }
   },
   "outputs": [],
   "source": [
    "import sys"
   ]
  },
  {
   "cell_type": "markdown",
   "metadata": {},
   "source": [
    "### pfrlライブラリのパスへの追加"
   ]
  },
  {
   "cell_type": "code",
   "execution_count": 2,
   "metadata": {
    "ExecuteTime": {
     "end_time": "2020-12-06T20:02:30.059634Z",
     "start_time": "2020-12-06T20:02:30.047668Z"
    }
   },
   "outputs": [],
   "source": [
    "sys.path.append(r\"E:\\システムトレード入門\\tutorials\\rl\\pfrl\")"
   ]
  },
  {
   "cell_type": "markdown",
   "metadata": {},
   "source": [
    "### インポート "
   ]
  },
  {
   "cell_type": "code",
   "execution_count": 3,
   "metadata": {
    "ExecuteTime": {
     "end_time": "2020-12-06T20:02:32.830247Z",
     "start_time": "2020-12-06T20:02:30.071605Z"
    }
   },
   "outputs": [],
   "source": [
    "import pfrl\n",
    "import torch\n",
    "import torch.nn as nn\n",
    "import torch.nn.functional as F\n",
    "import gym\n",
    "import numpy as np"
   ]
  },
  {
   "cell_type": "code",
   "execution_count": 4,
   "metadata": {
    "ExecuteTime": {
     "end_time": "2020-12-06T20:02:32.852169Z",
     "start_time": "2020-12-06T20:02:32.839202Z"
    }
   },
   "outputs": [],
   "source": [
    "from tqdm.notebook import tqdm"
   ]
  },
  {
   "cell_type": "markdown",
   "metadata": {},
   "source": [
    "### 環境の作成 "
   ]
  },
  {
   "cell_type": "markdown",
   "metadata": {},
   "source": [
    "今回はカートポールの環境を利用する．状態は [カートの位置，加速度，ポールの角度，ポールの角速度] の連続値．行動は左右のどちらへ移動するかの離散値"
   ]
  },
  {
   "cell_type": "code",
   "execution_count": 5,
   "metadata": {
    "ExecuteTime": {
     "end_time": "2020-12-06T20:02:32.948910Z",
     "start_time": "2020-12-06T20:02:32.876102Z"
    }
   },
   "outputs": [
    {
     "name": "stdout",
     "output_type": "stream",
     "text": [
      "observation space: Box(-3.4028234663852886e+38, 3.4028234663852886e+38, (4,), float32)\n",
      "action space: Discrete(2)\n"
     ]
    }
   ],
   "source": [
    "env = gym.make(\"CartPole-v0\")\n",
    "print(\"observation space:\", env.observation_space)\n",
    "print(\"action space:\", env.action_space)"
   ]
  },
  {
   "cell_type": "markdown",
   "metadata": {},
   "source": [
    "#### 最初の状態を観測 "
   ]
  },
  {
   "cell_type": "code",
   "execution_count": 6,
   "metadata": {
    "ExecuteTime": {
     "end_time": "2020-12-06T20:02:32.989799Z",
     "start_time": "2020-12-06T20:02:32.964870Z"
    }
   },
   "outputs": [
    {
     "name": "stdout",
     "output_type": "stream",
     "text": [
      "initial observation: [ 0.03072463  0.02555485  0.0458568  -0.02463818]\n"
     ]
    }
   ],
   "source": [
    "obs = env.reset()\n",
    "print(\"initial observation:\", obs)"
   ]
  },
  {
   "cell_type": "markdown",
   "metadata": {},
   "source": [
    "#### 適当な行動からObservation, rewardを取得 "
   ]
  },
  {
   "cell_type": "code",
   "execution_count": 7,
   "metadata": {
    "ExecuteTime": {
     "end_time": "2020-12-06T20:02:33.033684Z",
     "start_time": "2020-12-06T20:02:33.002765Z"
    }
   },
   "outputs": [
    {
     "name": "stdout",
     "output_type": "stream",
     "text": [
      "next obserbation: [ 0.03123572  0.2199902   0.04536404 -0.30250743]\n",
      "reward: 1.0\n",
      "done: False\n",
      "info: {}\n"
     ]
    }
   ],
   "source": [
    "action = env.action_space.sample()\n",
    "obs, r, done, info = env.step(action)\n",
    "print(\"next obserbation:\", obs)\n",
    "print(\"reward:\", r)\n",
    "print(\"done:\", done)\n",
    "print(\"info:\", info)"
   ]
  },
  {
   "cell_type": "markdown",
   "metadata": {},
   "source": [
    "### Q関数の定義 "
   ]
  },
  {
   "cell_type": "code",
   "execution_count": 8,
   "metadata": {
    "ExecuteTime": {
     "end_time": "2020-12-06T20:02:33.108481Z",
     "start_time": "2020-12-06T20:02:33.050637Z"
    }
   },
   "outputs": [],
   "source": [
    "class MyQFunction(nn.Module):\n",
    "    def __init__(self, obs_size, n_actions):\n",
    "        super().__init__()\n",
    "        self.fc1 = nn.Linear(obs_size, 50)\n",
    "        self.fc2 = nn.Linear(50, 50)\n",
    "        self.fc3 = nn.Linear(50, n_actions)\n",
    "    def forward(self, x):\n",
    "        x = F.relu(self.fc1(x))\n",
    "        x = F.relu(self.fc2(x))\n",
    "        x = self.fc3(x)\n",
    "        out = pfrl.action_value.DiscreteActionValue(x)\n",
    "        return out"
   ]
  },
  {
   "cell_type": "code",
   "execution_count": 9,
   "metadata": {
    "ExecuteTime": {
     "end_time": "2020-12-06T20:02:33.176309Z",
     "start_time": "2020-12-06T20:02:33.139402Z"
    }
   },
   "outputs": [
    {
     "name": "stdout",
     "output_type": "stream",
     "text": [
      "observation size: 4\n",
      "action size: 2\n"
     ]
    }
   ],
   "source": [
    "obs_size = env.observation_space.low.size\n",
    "print(\"observation size:\", obs_size)\n",
    "n_actions = env.action_space.n\n",
    "print(\"action size:\",n_actions)\n",
    "q_func = MyQFunction(obs_size, n_actions)"
   ]
  },
  {
   "cell_type": "markdown",
   "metadata": {},
   "source": [
    "### エージェントの作成 "
   ]
  },
  {
   "cell_type": "code",
   "execution_count": 10,
   "metadata": {
    "ExecuteTime": {
     "end_time": "2020-12-06T20:02:33.203229Z",
     "start_time": "2020-12-06T20:02:33.188276Z"
    }
   },
   "outputs": [],
   "source": [
    "optimizer = torch.optim.Adam(q_func.parameters(), eps=1e-2)"
   ]
  },
  {
   "cell_type": "code",
   "execution_count": 11,
   "metadata": {
    "ExecuteTime": {
     "end_time": "2020-12-06T20:02:33.251108Z",
     "start_time": "2020-12-06T20:02:33.215199Z"
    }
   },
   "outputs": [],
   "source": [
    "gamma = 0.9\n",
    "\n",
    "explorer = pfrl.explorers.ConstantEpsilonGreedy(epsilon=0.3,\n",
    "                                                random_action_func=env.action_space.sample\n",
    "                                               )\n",
    "\n",
    "replay_buffer = pfrl.replay_buffers.ReplayBuffer(capacity=10**6)\n",
    "\n",
    "phi = lambda x: x.astype(np.float32, copy=False)\n",
    "\n",
    "gpu = -1 # -1 is cpu\n",
    "\n",
    "agent = pfrl.agents.DoubleDQN(\n",
    "    q_function=q_func,\n",
    "    optimizer=optimizer,\n",
    "    replay_buffer=replay_buffer,\n",
    "    gamma=gamma,\n",
    "    explorer=explorer,\n",
    "    replay_start_size=500,\n",
    "    update_interval=1,\n",
    "    target_update_interval=100,\n",
    "    phi=phi,\n",
    "    gpu=gpu\n",
    ")"
   ]
  },
  {
   "cell_type": "markdown",
   "metadata": {},
   "source": [
    "### 学習のイテレーション "
   ]
  },
  {
   "cell_type": "code",
   "execution_count": 12,
   "metadata": {
    "ExecuteTime": {
     "end_time": "2020-12-06T20:08:05.718033Z",
     "start_time": "2020-12-06T20:02:33.263067Z"
    }
   },
   "outputs": [
    {
     "data": {
      "application/vnd.jupyter.widget-view+json": {
       "model_id": "04ab6dfeba7e4fd6a08da3833e9024e7",
       "version_major": 2,
       "version_minor": 0
      },
      "text/plain": [
       "HBox(children=(FloatProgress(value=0.0, max=300.0), HTML(value='')))"
      ]
     },
     "metadata": {},
     "output_type": "display_data"
    },
    {
     "name": "stdout",
     "output_type": "stream",
     "text": [
      "episode:10, return:9.0\n",
      "episode:20, return:8.0\n",
      "episode:30, return:13.0\n",
      "episode:40, return:11.0\n",
      "episode:50, return:13.0\n",
      "statistics: [('average_q', 0.8225266), ('average_loss', 0.19188212599144894), ('cumulative_steps', 588), ('n_updates', 89), ('rlen', 588)]\n",
      "episode:60, return:11.0\n",
      "episode:70, return:10.0\n",
      "episode:80, return:21.0\n",
      "episode:90, return:11.0\n",
      "episode:100, return:11.0\n",
      "statistics: [('average_q', 5.2032013), ('average_loss', 0.21298901025205852), ('cumulative_steps', 1251), ('n_updates', 752), ('rlen', 1251)]\n",
      "episode:110, return:18.0\n",
      "episode:120, return:39.0\n",
      "episode:130, return:62.0\n",
      "episode:140, return:19.0\n",
      "episode:150, return:68.0\n",
      "statistics: [('average_q', 9.157737), ('average_loss', 0.2495987607515417), ('cumulative_steps', 3228), ('n_updates', 2729), ('rlen', 3228)]\n",
      "episode:160, return:200.0\n",
      "episode:170, return:196.0\n",
      "episode:180, return:200.0\n",
      "episode:190, return:200.0\n",
      "episode:200, return:200.0\n",
      "statistics: [('average_q', 10.138581), ('average_loss', 0.11087872546864673), ('cumulative_steps', 11021), ('n_updates', 10522), ('rlen', 11021)]\n",
      "episode:210, return:200.0\n",
      "episode:220, return:157.0\n",
      "episode:230, return:200.0\n",
      "episode:240, return:193.0\n",
      "episode:250, return:171.0\n",
      "statistics: [('average_q', 10.050576), ('average_loss', 0.05678932310198434), ('cumulative_steps', 19547), ('n_updates', 19048), ('rlen', 19547)]\n",
      "episode:260, return:192.0\n",
      "episode:270, return:151.0\n",
      "episode:280, return:200.0\n",
      "episode:290, return:129.0\n",
      "episode:300, return:200.0\n",
      "statistics: [('average_q', 10.034544), ('average_loss', 0.045428745930548756), ('cumulative_steps', 26596), ('n_updates', 26097), ('rlen', 26596)]\n",
      "\n",
      "Finshed\n"
     ]
    }
   ],
   "source": [
    "n_episodes = 300  # エピソードの回数\n",
    "max_episode_len = 200\n",
    "for i in tqdm(range(1, n_episodes + 1)):\n",
    "    obs = env.reset()  # 観測のリセット\n",
    "    R = 0  # Return (sum ofrewards)\n",
    "    t = 0  # time step\n",
    "    while True:\n",
    "        action = agent.act(obs)\n",
    "        obs, reward, done, _ = env.step(action)\n",
    "        R += reward\n",
    "        t += 1\n",
    "        reset = t == max_episode_len\n",
    "        agent.observe(obs, reward, done, reset)\n",
    "        if done or reset:\n",
    "            break\n",
    "    \n",
    "    if i%10 == 0:\n",
    "        print(\"episode:{}, return:{}\".format(i, R))\n",
    "    if i%50 == 0:\n",
    "        print(\"statistics:\", agent.get_statistics())\n",
    "        \n",
    "print(\"Finshed\")"
   ]
  },
  {
   "cell_type": "code",
   "execution_count": 13,
   "metadata": {
    "ExecuteTime": {
     "end_time": "2020-12-06T20:08:20.547375Z",
     "start_time": "2020-12-06T20:08:20.410740Z"
    }
   },
   "outputs": [],
   "source": [
    "agent.save(\"agent\")"
   ]
  }
 ],
 "metadata": {
  "kernelspec": {
   "display_name": "torch_py37",
   "language": "python",
   "name": "torch_py37"
  },
  "language_info": {
   "codemirror_mode": {
    "name": "ipython",
    "version": 3
   },
   "file_extension": ".py",
   "mimetype": "text/x-python",
   "name": "python",
   "nbconvert_exporter": "python",
   "pygments_lexer": "ipython3",
   "version": "3.7.4"
  },
  "toc": {
   "base_numbering": 1,
   "nav_menu": {},
   "number_sections": true,
   "sideBar": true,
   "skip_h1_title": false,
   "title_cell": "Table of Contents",
   "title_sidebar": "Contents",
   "toc_cell": false,
   "toc_position": {},
   "toc_section_display": true,
   "toc_window_display": false
  }
 },
 "nbformat": 4,
 "nbformat_minor": 4
}
